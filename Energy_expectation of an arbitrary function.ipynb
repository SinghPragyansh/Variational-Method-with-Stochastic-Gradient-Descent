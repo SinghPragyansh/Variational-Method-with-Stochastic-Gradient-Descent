{
 "cells": [
  {
   "cell_type": "code",
   "execution_count": 1,
   "id": "cf127488",
   "metadata": {},
   "outputs": [],
   "source": [
    "import numpy as np\n",
    "import scipy as sc\n",
    "import matplotlib.pyplot as plt\n",
    "from scipy.integrate import simps\n",
    "from scipy.optimize import minimize"
   ]
  },
  {
   "cell_type": "code",
   "execution_count": 2,
   "id": "e8d4b0c7",
   "metadata": {},
   "outputs": [],
   "source": [
    "m_e =1\n",
    "h_cut = 1\n",
    "g = 10"
   ]
  },
  {
   "cell_type": "markdown",
   "id": "584614fb",
   "metadata": {},
   "source": [
    "    H = T + V \n",
    "    T = -(1/2)*d_2/dx_2\n",
    "    V = m*g*x"
   ]
  },
  {
   "cell_type": "markdown",
   "id": "62d0bdeb",
   "metadata": {},
   "source": [
    "    We can make use of numerical derivative simulation like nr or secant method for 1st order derivative maxima or minima solution\n",
    "    and similarly taylor series derived, first or second order derivative with the help of forward, backward and central difference method\n",
    "    f_double_dash = f(x+h) - 2*f(x) + f(x-h) / h^2"
   ]
  },
  {
   "cell_type": "code",
   "execution_count": 3,
   "id": "868024c4",
   "metadata": {},
   "outputs": [],
   "source": [
    "#f = lambda x: np.sin(x)\n",
    "#x = np.arange(0,100,0.01)"
   ]
  },
  {
   "cell_type": "code",
   "execution_count": 4,
   "id": "285b9e72",
   "metadata": {},
   "outputs": [],
   "source": [
    "def d_dx(f, x):\n",
    "    h = x[1] - x[0]\n",
    "    f_dash = np.zeros(len(x))\n",
    "    \n",
    "    for i in range(len(x)-1):\n",
    "        f_dash[i] = ( f(x[i+1]) - f(x[i]) )/h\n",
    "    \n",
    "    return f_dash"
   ]
  },
  {
   "cell_type": "code",
   "execution_count": 5,
   "id": "558d1622",
   "metadata": {
    "scrolled": true
   },
   "outputs": [],
   "source": [
    "#f_dash = first_order_derivative(f, x)\n",
    "# plt.plot(x, f_dash)\n",
    "# plt.plot(x, np.cos(x))"
   ]
  },
  {
   "cell_type": "code",
   "execution_count": 6,
   "id": "40893fb2",
   "metadata": {},
   "outputs": [],
   "source": [
    "def d_2_dx(f, x):\n",
    "    h = x[1] - x[0]\n",
    "    f_double_dash = np.zeros(len(x))\n",
    "    \n",
    "    for i in range(1, len(x)-1):\n",
    "        f_double_dash[i] = ( f(x[i+1]) - 2*f(x[i]) + f(x[i-1])) / h**2\n",
    "        \n",
    "    return f_double_dash"
   ]
  },
  {
   "cell_type": "code",
   "execution_count": 7,
   "id": "97d56aef",
   "metadata": {},
   "outputs": [],
   "source": [
    "def bra_H_ket(f, V, x_grid):\n",
    "    T_ket = (-1/2)*d_2_dx(f,x_grid)\n",
    "    \n",
    "    bra_T_ket = simps(np.conj(f(x_grid)) * T_ket, x_grid)\n",
    "    bra_V_ket = simps(np.conj(f(x_grid))*V*f(x_grid), x_grid)\n",
    "    \n",
    "    bra_H_ket = bra_T_ket + bra_V_ket\n",
    "    \n",
    "    return bra_H_ket"
   ]
  },
  {
   "cell_type": "code",
   "execution_count": 8,
   "id": "6bff6d0f",
   "metadata": {},
   "outputs": [],
   "source": [
    "def bra_ket_overlap(f, x_grid):\n",
    "    bra_ket_integrate = simps(np.conj(f(x_grid))*f(x_grid) , x_grid)\n",
    "    \n",
    "    return bra_ket_integrate"
   ]
  },
  {
   "cell_type": "code",
   "execution_count": 9,
   "id": "0201a55f",
   "metadata": {},
   "outputs": [],
   "source": [
    "def expected_energy(f, V, x_grid):\n",
    "    bra_h_ket = bra_H_ket(f, V, x_grid)\n",
    "    bra_ket_integrate = bra_ket_overlap(f, x_grid)\n",
    "    \n",
    "    bra_E_ket = bra_h_ket / bra_ket_integrate\n",
    "    \n",
    "    return bra_E_ket"
   ]
  },
  {
   "cell_type": "code",
   "execution_count": 10,
   "id": "e32d25b4",
   "metadata": {},
   "outputs": [],
   "source": [
    "# finding minimum expectation energy from the varied alpha\n",
    "def find_minima(energy_list, alpha_list):\n",
    "    least = energy_list[0]\n",
    "    alpha = alpha_list[0]\n",
    "    for i in range(1, len(alpha_list)):\n",
    "        if energy_list[i] < least:\n",
    "            least = energy_list[i]\n",
    "            alpha = alpha_list[i]\n",
    "    \n",
    "    return least, alpha"
   ]
  },
  {
   "cell_type": "code",
   "execution_count": 16,
   "id": "c3511273",
   "metadata": {},
   "outputs": [
    {
     "data": {
      "text/plain": [
       "2.5"
      ]
     },
     "execution_count": 16,
     "metadata": {},
     "output_type": "execute_result"
    },
    {
     "data": {
      "image/png": "[encoded data removed]",
      "text/plain": [
       "<Figure size 432x288 with 1 Axes>"
      ]
     },
     "metadata": {
      "needs_background": "light"
     },
     "output_type": "display_data"
    }
   ],
   "source": [
    "# For positive alpha only\n",
    "alpha_list = np.arange(0,30, 0.1)\n",
    "x_grid = np.arange(0,50,0.01)\n",
    "V = m_e*g*x_grid\n",
    "energy_list = []\n",
    "\n",
    "for alpha in alpha_list:\n",
    "    psi_trial = lambda x: x*np.exp(-alpha*x)\n",
    "    energy = expected_energy(psi_trial, V, x_grid)\n",
    "    energy_list.append(energy)\n",
    "\n",
    "minimum_energy, alpha_ind = find_minima(energy_list, alpha_list)\n",
    "plt.plot(alpha_list, energy_list)\n",
    "plt.plot(alpha_ind, minimum_energy, '*')\n",
    "alpha_ind"
   ]
  },
  {
   "cell_type": "code",
   "execution_count": 18,
   "id": "d3c444c8",
   "metadata": {},
   "outputs": [
    {
     "data": {
      "text/plain": [
       "[<matplotlib.lines.Line2D at 0x7fc9b6e41130>]"
      ]
     },
     "execution_count": 18,
     "metadata": {},
     "output_type": "execute_result"
    },
    {
     "data": {
      "image/png": "[encoded data removed]",
      "text/plain": [
       "<Figure size 432x288 with 1 Axes>"
      ]
     },
     "metadata": {
      "needs_background": "light"
     },
     "output_type": "display_data"
    }
   ],
   "source": [
    "# For integer alpha: taking positive and negative values\n",
    "alpha_list = np.arange(-20,20, 0.1)\n",
    "x_grid = np.arange(0,10,0.01)\n",
    "V = m_e*g*x_grid\n",
    "energy_list = []\n",
    "\n",
    "for alpha in alpha_list:\n",
    "    psi_trial = lambda x: x*np.exp(-alpha*x)\n",
    "    energy = expected_energy(psi_trial, V, x_grid)\n",
    "    energy_list.append(energy)\n",
    "\n",
    "minimum_energy, alpha_ind = find_minima(energy_list, alpha_list)\n",
    "plt.plot(alpha_list, energy_list)\n",
    "plt.plot(alpha_ind, minimum_energy, '*')"
   ]
  },
  {
   "cell_type": "markdown",
   "id": "fbe9258b",
   "metadata": {},
   "source": [
    "                    # Let's change the trial function"
   ]
  },
  {
   "cell_type": "markdown",
   "id": "b2442b90",
   "metadata": {},
   "source": [
    "                    # Psi trial 2"
   ]
  },
  {
   "cell_type": "code",
   "execution_count": 13,
   "id": "8de72d64",
   "metadata": {},
   "outputs": [
    {
     "data": {
      "text/plain": [
       "[<matplotlib.lines.Line2D at 0x7fc9b72cc070>]"
      ]
     },
     "execution_count": 13,
     "metadata": {},
     "output_type": "execute_result"
    },
    {
     "data": {
      "image/png": "[encoded data removed]",
      "text/plain": [
       "<Figure size 432x288 with 1 Axes>"
      ]
     },
     "metadata": {
      "needs_background": "light"
     },
     "output_type": "display_data"
    }
   ],
   "source": [
    "# For integer alpha: taking positive and negative values\n",
    "alpha_list = np.arange(-20,20, 0.1)\n",
    "x_grid = np.arange(0,10,0.01)\n",
    "V = m_e*g*x_grid\n",
    "energy_list = []\n",
    "\n",
    "for alpha in alpha_list:\n",
    "    psi_trial = lambda x: np.exp(-alpha*x)\n",
    "    energy = expected_energy(psi_trial, V, x_grid)\n",
    "    energy_list.append(energy)\n",
    "\n",
    "minimum_energy, alpha_ind = find_minima(energy_list, alpha_list)\n",
    "plt.plot(alpha_list, energy_list)\n",
    "plt.plot(alpha_ind, minimum_energy, '*')"
   ]
  },
  {
   "cell_type": "markdown",
   "id": "3fd0598c",
   "metadata": {},
   "source": [
    "                           # Psi_trial 3"
   ]
  },
  {
   "cell_type": "code",
   "execution_count": 14,
   "id": "8ee0ce7c",
   "metadata": {},
   "outputs": [
    {
     "name": "stderr",
     "output_type": "stream",
     "text": [
      "<ipython-input-6-c49aacdab4f9>:6: RuntimeWarning: overflow encountered in double_scalars\n",
      "  f_double_dash[i] = ( f(x[i+1]) - 2*f(x[i]) + f(x[i-1])) / h**2\n",
      "<ipython-input-14-db3736946b49>:8: RuntimeWarning: overflow encountered in exp\n",
      "  psi_trial = lambda x: np.exp(-alpha*x**2)\n",
      "<ipython-input-6-c49aacdab4f9>:6: RuntimeWarning: invalid value encountered in double_scalars\n",
      "  f_double_dash[i] = ( f(x[i+1]) - 2*f(x[i]) + f(x[i-1])) / h**2\n",
      "<ipython-input-7-108b4b09cd6b>:4: RuntimeWarning: overflow encountered in multiply\n",
      "  bra_T_ket = simps(np.conj(f(x_grid)) * T_ket, x_grid)\n",
      "<ipython-input-7-108b4b09cd6b>:4: RuntimeWarning: invalid value encountered in multiply\n",
      "  bra_T_ket = simps(np.conj(f(x_grid)) * T_ket, x_grid)\n",
      "<ipython-input-7-108b4b09cd6b>:5: RuntimeWarning: overflow encountered in multiply\n",
      "  bra_V_ket = simps(np.conj(f(x_grid))*V*f(x_grid), x_grid)\n",
      "/home/user/anaconda3/lib/python3.8/site-packages/scipy/integrate/_quadrature.py:398: RuntimeWarning: overflow encountered in add\n",
      "  tmp = hsum/6.0 * (y[slice0]*(2-1.0/h0divh1) +\n",
      "/home/user/anaconda3/lib/python3.8/site-packages/scipy/integrate/_quadrature.py:399: RuntimeWarning: overflow encountered in true_divide\n",
      "  y[slice1]*hsum*hsum/hprod +\n",
      "<ipython-input-8-6ff551952164>:2: RuntimeWarning: overflow encountered in multiply\n",
      "  bra_ket_integrate = simps(np.conj(f(x_grid))*f(x_grid) , x_grid)\n",
      "<ipython-input-7-108b4b09cd6b>:7: RuntimeWarning: invalid value encountered in double_scalars\n",
      "  bra_H_ket = bra_T_ket + bra_V_ket\n"
     ]
    },
    {
     "data": {
      "text/plain": [
       "[<matplotlib.lines.Line2D at 0x7fc9b72606d0>]"
      ]
     },
     "execution_count": 14,
     "metadata": {},
     "output_type": "execute_result"
    },
    {
     "data": {
      "image/png": "[encoded data removed]",
      "text/plain": [
       "<Figure size 432x288 with 1 Axes>"
      ]
     },
     "metadata": {
      "needs_background": "light"
     },
     "output_type": "display_data"
    }
   ],
   "source": [
    "# For integer alpha: taking positive and negative values\n",
    "alpha_list = np.arange(-10,10, 0.1)\n",
    "x_grid = np.arange(0,10,0.01)\n",
    "V = m_e*g*x_grid\n",
    "energy_list = []\n",
    "\n",
    "for alpha in alpha_list:\n",
    "    psi_trial = lambda x: np.exp(-alpha*x**2)\n",
    "    energy = expected_energy(psi_trial, V, x_grid)\n",
    "    energy_list.append(energy)\n",
    "\n",
    "minimum_energy, alpha_ind = find_minima(energy_list, alpha_list)\n",
    "plt.plot(alpha_list, energy_list)\n",
    "plt.plot(alpha_ind, minimum_energy, '*')"
   ]
  },
  {
   "cell_type": "markdown",
   "id": "fefe1fde",
   "metadata": {},
   "source": [
    "                            # Psi_trial 4"
   ]
  },
  {
   "cell_type": "code",
   "execution_count": 15,
   "id": "f856347f",
   "metadata": {},
   "outputs": [
    {
     "data": {
      "text/plain": [
       "[<matplotlib.lines.Line2D at 0x7fc9b6fa8070>]"
      ]
     },
     "execution_count": 15,
     "metadata": {},
     "output_type": "execute_result"
    },
    {
     "data": {
      "image/png": "[encoded data removed]",
      "text/plain": [
       "<Figure size 432x288 with 1 Axes>"
      ]
     },
     "metadata": {
      "needs_background": "light"
     },
     "output_type": "display_data"
    }
   ],
   "source": [
    "# For integer alpha: taking positive and negative values\n",
    "alpha_list = np.arange(-10,10, 0.1)\n",
    "x_grid = np.arange(0,10,0.01)\n",
    "V = m_e*g*x_grid\n",
    "energy_list = []\n",
    "\n",
    "for alpha in alpha_list:\n",
    "    psi_trial = lambda x: x*np.exp(-alpha*x**0.5)\n",
    "    energy = expected_energy(psi_trial, V, x_grid)\n",
    "    energy_list.append(energy)\n",
    "\n",
    "minimum_energy, alpha_ind = find_minima(energy_list, alpha_list)\n",
    "plt.plot(alpha_list, energy_list)\n",
    "plt.plot(alpha_ind, minimum_energy, '*')"
   ]
  },
  {
   "cell_type": "code",
   "execution_count": null,
   "id": "9f344a5a",
   "metadata": {},
   "outputs": [],
   "source": []
  }
 ],
 "metadata": {
  "kernelspec": {
   "display_name": "Python 3",
   "language": "python",
   "name": "python3"
  },
  "language_info": {
   "codemirror_mode": {
    "name": "ipython",
    "version": 3
   },
   "file_extension": ".py",
   "mimetype": "text/x-python",
   "name": "python",
   "nbconvert_exporter": "python",
   "pygments_lexer": "ipython3",
   "version": "3.8.8"
  }
 },
 "nbformat": 4,
 "nbformat_minor": 5
}
