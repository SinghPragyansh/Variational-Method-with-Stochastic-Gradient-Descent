{
 "cells": [
  {
   "cell_type": "code",
   "execution_count": 1,
   "id": "0b204ea5",
   "metadata": {},
   "outputs": [],
   "source": [
    "import numpy as np\n",
    "import scipy as sc\n",
    "import matplotlib.pyplot as plt\n",
    "from scipy.integrate import simps\n",
    "import math"
   ]
  },
  {
   "cell_type": "markdown",
   "id": "d84b8407",
   "metadata": {},
   "source": [
    "                        # Gradient Descent\n",
    "    zeeta = parameter to optimize\n",
    "    peeta = parameter to optimize\n",
    "    step_grad = const\n",
    "    grad = dE/dzeeta\n",
    "    updated_zeeta = zeeta - (step_grad * grad)\n",
    "    "
   ]
  },
  {
   "cell_type": "markdown",
   "id": "bfd9bf8e",
   "metadata": {},
   "source": [
    "                             # Gradient\n",
    " The expression of gradient would change, according to the energy expectation expression"
   ]
  },
  {
   "cell_type": "markdown",
   "id": "450614cd",
   "metadata": {},
   "source": [
    "         # Implementing the gradient descent opt with the help of initial values"
   ]
  },
  {
   "cell_type": "code",
   "execution_count": 2,
   "id": "927e8b89",
   "metadata": {},
   "outputs": [],
   "source": [
    "class Variational_method:\n",
    "    def __init__(self,psi_trial, zeeta_ini,peeta_ini, step, num_iterations,tolerance):\n",
    "        self.f = psi_trial\n",
    "        self.zeeta_ini = zeeta_ini\n",
    "        self.peeta_ini = peeta_ini\n",
    "        self.step = step\n",
    "        self.num_iterations = num_iterations\n",
    "        self.tolerance = tolerance\n",
    "        self.m_e = 1\n",
    "        self.h_cut = 1\n",
    "        self.g = 10\n",
    "        \n",
    "    # Derivative of parameter for steepest gradient descent\n",
    "    def dE_dpara(self,parameter0, parameter1, E0, E1):\n",
    "        derivative = (E1 - E0)/(parameter1 - parameter0)\n",
    "        return derivative\n",
    "\n",
    "    # Returns the derivative of particular wavefunction wrt x on the whole x-grid\n",
    "    # therefore f_dash returns the (n-1) derivative points for n points on x-grid\n",
    "    def d_dx(self,x,zeeta, peeta):\n",
    "        h = x[1] - x[0]\n",
    "        f_dash = np.zeros(len(x))\n",
    "        for i in range(len(x)-1):\n",
    "            f_dash[i] = ( self.f(zeeta,peeta,x[i+1]) - self.f(zeeta,peeta,x[i]) )/h\n",
    "    \n",
    "        return f_dash\n",
    "    \n",
    "    def d_2_dx(self,x, zeeta,peeta):\n",
    "        h = x[1] - x[0]\n",
    "        f_double_dash = np.zeros(len(x))\n",
    "    \n",
    "        for i in range(1, len(x)-1):\n",
    "            f_double_dash[i] = ( self.f(zeeta,peeta,x[i+1]) - 2*self.f(zeeta,peeta,x[i]) + self.f(zeeta,peeta,x[i-1])) / h**2\n",
    "        \n",
    "        return f_double_dash\n",
    "    \n",
    "    def plots(self, zeeta_list,peeta_list, energy_list, iteration_list):\n",
    "        plt.subplot(3,1,1)\n",
    "        plt.plot(zeeta_list, energy_list)\n",
    "        plt.xlabel(\"updated_zeetas\")\n",
    "        plt.ylabel(\"Energy\")\n",
    "        plt.subplot(3,1,2)\n",
    "        plt.plot(peeta_list, energy_list)\n",
    "        plt.xlabel(\"updated_peetas\")\n",
    "        plt.ylabel(\"Energy\")\n",
    "        plt.subplot(3,1,3)\n",
    "        plt.xlabel(\"Iterations\")\n",
    "        plt.ylabel(\"Energy\")\n",
    "        plt.plot(iteration_list, energy_list)\n",
    "    \n",
    "    def bra_H_ket(self,V, x_grid,zeeta,peeta):\n",
    "        T_ket = (-1/2)*self.d_2_dx(x_grid, zeeta, peeta)\n",
    "    \n",
    "        bra_T_ket = simps(np.conj(self.f(zeeta,peeta,x_grid)) * T_ket, x_grid)\n",
    "        bra_V_ket = simps(np.conj(self.f(zeeta,peeta,x_grid))*V*self.f(zeeta,peeta,x_grid), x_grid)\n",
    "    \n",
    "        bra_H_ket = bra_T_ket + bra_V_ket\n",
    "    \n",
    "        return bra_H_ket\n",
    "    \n",
    "    def bra_ket_overlap(self,x_grid,zeeta,peeta):\n",
    "        bra_ket_integrate = simps(np.conj(self.f(zeeta,peeta,x_grid))*self.f(zeeta,peeta,x_grid) , x_grid)\n",
    "    \n",
    "        return bra_ket_integrate\n",
    "    \n",
    "    def expected_energy(self,V, x_grid,zeeta,peeta):\n",
    "        bra_h_ket = self.bra_H_ket(V, x_grid, zeeta,peeta)\n",
    "        bra_ket_integrate = self.bra_ket_overlap(x_grid,zeeta,peeta)\n",
    "    \n",
    "        bra_E_ket = bra_h_ket / bra_ket_integrate\n",
    "    \n",
    "        return bra_E_ket\n",
    "    \n",
    "    def gradient_descent(self):\n",
    "         # Initiate empty list : used for recording data during the iteration\n",
    "        zeeta_update_list = []\n",
    "        peeta_update_list = []\n",
    "        E_list = []\n",
    "        iteration_list= []\n",
    "\n",
    "        # define the initial constants and function\n",
    "        x_grid = np.arange(0.0,20.0,0.01)\n",
    "        V = self.m_e*self.g*x_grid\n",
    "        converged = False\n",
    "\n",
    "        # Intitial Values that will be used to start and implement the gradient descent \n",
    "        E0 = self.expected_energy(V, x_grid, self.zeeta_ini, self.peeta_ini)\n",
    "        zeeta0 = self.zeeta_ini\n",
    "        peeta0 = self.peeta_ini\n",
    "        zeeta = zeeta0 + self.step\n",
    "        peeta = peeta0 + self.step\n",
    "        iteration = 0\n",
    "\n",
    "        while not converged and iteration < self.num_iterations:\n",
    "            E1 = self.expected_energy(V, x_grid,zeeta, peeta)\n",
    "            derivative_zeeta = self.dE_dpara(zeeta0, zeeta, E0, E1)\n",
    "            derivative_peeta = self.dE_dpara(peeta0, peeta, E0, E1)\n",
    "\n",
    "            # update the parameter with SGD \n",
    "            updated_zeeta = zeeta - step*derivative_zeeta\n",
    "            updated_peeta = peeta - step*derivative_peeta\n",
    "\n",
    "            # Record the data\n",
    "            zeeta_update_list.append(updated_zeeta)\n",
    "            peeta_update_list.append(updated_peeta)\n",
    "            E_list.append(E1)\n",
    "            iteration_list.append(iteration)\n",
    "\n",
    "            # arrange the parameters for next iteration\n",
    "            zeeta0 = zeeta\n",
    "            zeeta = updated_zeeta\n",
    "            peeta0 = peeta\n",
    "            peeta = updated_peeta\n",
    "            E0  = E1\n",
    "\n",
    "            # Print at intervals of (num_iterations/10, here it is: 2000/10 = 200)\n",
    "            # therefore we print at every successive 200th iteration interval \n",
    "            if iteration% math.ceil(num_iterations / 10) == 0:\n",
    "                print(f\"Iteration {iteration:4d}: Expected_Energy {E_list[-1]} , zeeta and peeta: {zeeta_update_list[-1]}, {peeta_update_list[-1]}\")\n",
    "\n",
    "            # Convergence criteria and iteration update\n",
    "            converged = abs(zeeta-zeeta0) < tolerance and abs(peeta-peeta0) < tolerance\n",
    "            iteration += 1\n",
    "        \n",
    "        self.plots(zeeta_update_list, peeta_update_list, E_list, iteration_list)\n",
    "        \n",
    "        return E_list, zeeta_update_list, peeta_update_list, iteration_list"
   ]
  },
  {
   "cell_type": "markdown",
   "id": "a262e938",
   "metadata": {},
   "source": [
    "                        # Trial Wavefunction 1"
   ]
  },
  {
   "cell_type": "code",
   "execution_count": 14,
   "id": "999775b4",
   "metadata": {},
   "outputs": [
    {
     "name": "stdout",
     "output_type": "stream",
     "text": [
      "Iteration    0: Expected_Energy 25.142020851073354 , zeeta and peeta: 1.025641542192767, 1.025641542192767\n",
      "Iteration  200: Expected_Energy 11.235884474090609 , zeeta and peeta: 2.4440186517612243, 2.4440186517612243\n",
      "Iteration  400: Expected_Energy 9.93516083455707 , zeeta and peeta: 2.9463645385948753, 2.9463645385948753\n",
      "Iteration  600: Expected_Energy 9.444697475899604 , zeeta and peeta: 3.257160396175063, 3.257160396175063\n",
      "Iteration  800: Expected_Energy 9.20856482183213 , zeeta and peeta: 3.4733242118535586, 3.4733242118535586\n",
      "Iteration 1000: Expected_Energy 9.081446451312173 , zeeta and peeta: 3.632102257975804, 3.632102257975804\n",
      "Iteration 1200: Expected_Energy 9.00850932332559 , zeeta and peeta: 3.752447939510848, 3.752447939510848\n",
      "Iteration 1400: Expected_Energy 8.964921267223493 , zeeta and peeta: 3.845517692180196, 3.845517692180196\n",
      "Iteration 1600: Expected_Energy 8.938137902115605 , zeeta and peeta: 3.918492065948145, 3.918492065948145\n",
      "Iteration 1800: Expected_Energy 8.92135004192021 , zeeta and peeta: 3.976277041281865, 3.976277041281865\n",
      "The least energy is:8.91071441154905\n"
     ]
    },
    {
     "data": {
      "image/png": "[encoded data removed]",
      "text/plain": [
       "<Figure size 432x288 with 3 Axes>"
      ]
     },
     "metadata": {
      "needs_background": "light"
     },
     "output_type": "display_data"
    }
   ],
   "source": [
    "psi_trial = lambda zeeta,peeta, x: np.square(x*peeta)*np.exp(-(zeeta*x))\n",
    "zeeta_ini = 1.0\n",
    "peeta_ini = 1.0\n",
    "step = 0.001\n",
    "num_iterations = 2000\n",
    "tolerance = 1.0e-6\n",
    "method=Variational_method(psi_trial,zeeta_ini,peeta_ini,step,num_iterations,tolerance)\n",
    "Energy_list, zeeta_list, peeta_list, iteration_list = method.gradient_descent()\n",
    "print(f\"The least energy is:{Energy_list[-1]}\")"
   ]
  },
  {
   "cell_type": "markdown",
   "id": "4a3d79ed",
   "metadata": {},
   "source": [
    "                         # Trial Wavefunction 2"
   ]
  },
  {
   "cell_type": "code",
   "execution_count": 15,
   "id": "5484d2d1",
   "metadata": {},
   "outputs": [
    {
     "name": "stdout",
     "output_type": "stream",
     "text": [
      "Iteration    0: Expected_Energy 188.75332378506678 , zeeta and peeta: 3.006410519378046, 1.0064105193780464\n",
      "Iteration  200: Expected_Energy 185.67633283436302 , zeeta and peeta: 3.777734478591282, 1.777734478591282\n",
      "Iteration  400: Expected_Energy 184.3922830048077 , zeeta and peeta: 4.282309738802153, 2.282309738802154\n",
      "Iteration  600: Expected_Energy 183.59774041319054 , zeeta and peeta: 4.680139896657905, 2.6801398966579004\n",
      "Iteration  800: Expected_Energy 183.02738112010607 , zeeta and peeta: 5.017483523338158, 3.01748352333815\n",
      "Iteration 1000: Expected_Energy 182.58414558520244 , zeeta and peeta: 5.314982686560442, 3.3149826865604246\n",
      "Iteration 1200: Expected_Energy 182.22224191277175 , zeeta and peeta: 5.583863397633567, 3.5838633976335514\n",
      "Iteration 1400: Expected_Energy 181.9166085663207 , zeeta and peeta: 5.830991415852832, 3.8309914158528233\n",
      "Iteration 1600: Expected_Energy 181.65210920428873 , zeeta and peeta: 6.0609093156990514, 4.060909315699042\n",
      "Iteration 1800: Expected_Energy 181.41893367127503 , zeeta and peeta: 6.276797674627469, 4.276797674627459\n",
      "The least energy is:181.21136678896931\n"
     ]
    },
    {
     "data": {
      "image/png": "[encoded data removed]",
      "text/plain": [
       "<Figure size 432x288 with 3 Axes>"
      ]
     },
     "metadata": {
      "needs_background": "light"
     },
     "output_type": "display_data"
    }
   ],
   "source": [
    "psi_trial = lambda zeeta,peeta, x: (x+zeeta)**2*np.exp(zeeta*x**0.5/peeta)\n",
    "zeeta_ini = 3.0\n",
    "peeta_ini = 1.0\n",
    "step = 0.001\n",
    "num_iterations = 2000\n",
    "tolerance = 1.0e-6\n",
    "method=Variational_method(psi_trial,zeeta_ini,peeta_ini,step,num_iterations,tolerance)\n",
    "Energy_list, zeeta_list, peeta_list, iteration_list = method.gradient_descent()\n",
    "print(f\"The least energy is:{Energy_list[-1]}\")"
   ]
  },
  {
   "cell_type": "code",
   "execution_count": null,
   "id": "1466ef2c",
   "metadata": {},
   "outputs": [],
   "source": []
  }
 ],
 "metadata": {
  "kernelspec": {
   "display_name": "Python 3",
   "language": "python",
   "name": "python3"
  },
  "language_info": {
   "codemirror_mode": {
    "name": "ipython",
    "version": 3
   },
   "file_extension": ".py",
   "mimetype": "text/x-python",
   "name": "python",
   "nbconvert_exporter": "python",
   "pygments_lexer": "ipython3",
   "version": "3.8.8"
  }
 },
 "nbformat": 4,
 "nbformat_minor": 5
}
