{
 "cells": [
  {
   "cell_type": "code",
   "execution_count": 69,
   "id": "0b204ea5",
   "metadata": {},
   "outputs": [],
   "source": [
    "import numpy as np\n",
    "import scipy as sc\n",
    "import matplotlib.pyplot as plt\n",
    "from scipy.integrate import simps"
   ]
  },
  {
   "cell_type": "code",
   "execution_count": 2,
   "id": "eef92e05",
   "metadata": {},
   "outputs": [],
   "source": [
    "m_e =1\n",
    "h_cut = 1\n",
    "g = 10"
   ]
  },
  {
   "cell_type": "code",
   "execution_count": 28,
   "id": "2daf5596",
   "metadata": {},
   "outputs": [],
   "source": [
    "def d_dx(f, x,alpha):\n",
    "    h = x[1] - x[0]\n",
    "    f_dash = np.zeros(len(x))\n",
    "    \n",
    "    for i in range(len(x)-1):\n",
    "        f_dash[i] = ( f(alpha,x[i+1]) - f(alpha,x[i]) )/h\n",
    "    \n",
    "    return f_dash"
   ]
  },
  {
   "cell_type": "code",
   "execution_count": 29,
   "id": "e67c5d80",
   "metadata": {},
   "outputs": [],
   "source": [
    "def d_2_dx(f, x, alpha):\n",
    "    h = x[1] - x[0]\n",
    "    f_double_dash = np.zeros(len(x))\n",
    "    \n",
    "    for i in range(1, len(x)-1):\n",
    "        f_double_dash[i] = ( f(alpha,x[i+1]) - 2*f(alpha,x[i]) + f(alpha,x[i-1])) / h**2\n",
    "        \n",
    "    return f_double_dash"
   ]
  },
  {
   "cell_type": "code",
   "execution_count": 30,
   "id": "9c3146bb",
   "metadata": {},
   "outputs": [],
   "source": [
    "def bra_H_ket(f, V, x_grid,alpha):\n",
    "    T_ket = (-1/2)*d_2_dx(f,x_grid, alpha)\n",
    "    \n",
    "    bra_T_ket = simps(np.conj(f(alpha,x_grid)) * T_ket, x_grid)\n",
    "    bra_V_ket = simps(np.conj(f(alpha,x_grid))*V*f(alpha,x_grid), x_grid)\n",
    "    \n",
    "    bra_H_ket = bra_T_ket + bra_V_ket\n",
    "    \n",
    "    return bra_H_ket"
   ]
  },
  {
   "cell_type": "code",
   "execution_count": 31,
   "id": "77a8d028",
   "metadata": {},
   "outputs": [],
   "source": [
    "def bra_ket_overlap(f, x_grid,alpha):\n",
    "    bra_ket_integrate = simps(np.conj(f(alpha,x_grid))*f(alpha,x_grid) , x_grid)\n",
    "    \n",
    "    return bra_ket_integrate"
   ]
  },
  {
   "cell_type": "code",
   "execution_count": 32,
   "id": "3b464815",
   "metadata": {},
   "outputs": [],
   "source": [
    "def expected_energy(f, V, x_grid,alpha):\n",
    "    bra_h_ket = bra_H_ket(f, V, x_grid, alpha)\n",
    "    bra_ket_integrate = bra_ket_overlap(f, x_grid,alpha)\n",
    "    \n",
    "    bra_E_ket = bra_h_ket / bra_ket_integrate\n",
    "    \n",
    "    return bra_E_ket"
   ]
  },
  {
   "cell_type": "markdown",
   "id": "d84b8407",
   "metadata": {},
   "source": [
    "                        # Gradient Descent\n",
    "    alpha = parameter\n",
    "    step_grad = const\n",
    "    grad = dE/dalpha\n",
    "    updated_alpha = alpha - (step_grad * grad)\n",
    "    "
   ]
  },
  {
   "cell_type": "markdown",
   "id": "bfd9bf8e",
   "metadata": {},
   "source": [
    "                             # Gradient\n",
    " The expression of gradient would change, according to the energy expectation expression"
   ]
  },
  {
   "cell_type": "markdown",
   "id": "450614cd",
   "metadata": {},
   "source": [
    "         # Implementing the gradient descent opt with the help of initial values"
   ]
  },
  {
   "cell_type": "code",
   "execution_count": 70,
   "id": "02bdb984",
   "metadata": {},
   "outputs": [],
   "source": [
    "alpha_update_list = []\n",
    "E_list = []\n",
    "x_grid = np.arange(0,20,0.01)\n",
    "V = m_e*g*x_grid\n",
    "psi_trial = lambda alpha,x: x*np.exp(-alpha*x)\n",
    "\n",
    "# Intitial Values that will be used to start the gradient descent\n",
    "alpha = 1\n",
    "E0 = expected_energy(psi_trial, V, x_grid, alpha)\n",
    "\n",
    "h = 0.01\n",
    "alpha0 = alpha\n",
    "alpha = alpha0 + h\n",
    "num_iterations = 2000\n",
    "step = 0.001\n",
    "\n",
    "for iter in range(num_iterations):\n",
    "    \n",
    "    E1 = expected_energy(psi_trial, V, x_grid,alpha)\n",
    "    dE_dalpha = (E1 - E0)/ (alpha - alpha0)\n",
    "    \n",
    "    updated_alpha = alpha - step*dE_dalpha\n",
    "    alpha_update_list.append(updated_alpha)\n",
    "    E_list.append(E1)\n",
    "    \n",
    "    alpha0 = alpha\n",
    "    alpha = updated_alpha\n",
    "    E0  = E1"
   ]
  },
  {
   "cell_type": "code",
   "execution_count": 71,
   "id": "999775b4",
   "metadata": {},
   "outputs": [
    {
     "data": {
      "text/plain": [
       "2.4641774678691184"
      ]
     },
     "execution_count": 71,
     "metadata": {},
     "output_type": "execute_result"
    }
   ],
   "source": [
    "alpha"
   ]
  },
  {
   "cell_type": "code",
   "execution_count": 74,
   "id": "587e488e",
   "metadata": {},
   "outputs": [
    {
     "data": {
      "text/plain": [
       "[<matplotlib.lines.Line2D at 0x7f0476fcbbb0>]"
      ]
     },
     "execution_count": 74,
     "metadata": {},
     "output_type": "execute_result"
    },
    {
     "data": {
      "image/png": "[encoded data removed]",
      "text/plain": [
       "<Figure size 432x288 with 2 Axes>"
      ]
     },
     "metadata": {
      "needs_background": "light"
     },
     "output_type": "display_data"
    }
   ],
   "source": [
    "plt.subplot(2,1,1)\n",
    "plt.plot(alpha_update_list, E_list)\n",
    "plt.xlabel(\"updated_alphas\")\n",
    "plt.ylabel(\"Energy\")\n",
    "plt.subplot(2,1,2)\n",
    "iterations = np.arange(0,num_iterations, 1)\n",
    "plt.xlabel(\"Iterations\")\n",
    "plt.ylabel(\"Energy\")\n",
    "plt.plot(iterations, E_list)"
   ]
  },
  {
   "cell_type": "code",
   "execution_count": null,
   "id": "ea53b817",
   "metadata": {},
   "outputs": [],
   "source": []
  }
 ],
 "metadata": {
  "kernelspec": {
   "display_name": "Python 3",
   "language": "python",
   "name": "python3"
  },
  "language_info": {
   "codemirror_mode": {
    "name": "ipython",
    "version": 3
   },
   "file_extension": ".py",
   "mimetype": "text/x-python",
   "name": "python",
   "nbconvert_exporter": "python",
   "pygments_lexer": "ipython3",
   "version": "3.8.8"
  }
 },
 "nbformat": 4,
 "nbformat_minor": 5
}
