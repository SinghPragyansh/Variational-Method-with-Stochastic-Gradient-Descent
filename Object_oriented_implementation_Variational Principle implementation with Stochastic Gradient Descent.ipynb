{
 "cells": [
  {
   "cell_type": "code",
   "execution_count": 1,
   "id": "0b204ea5",
   "metadata": {},
   "outputs": [],
   "source": [
    "import numpy as np\n",
    "import scipy as sc\n",
    "import matplotlib.pyplot as plt\n",
    "from scipy.integrate import simps\n",
    "import math"
   ]
  },
  {
   "cell_type": "markdown",
   "id": "d84b8407",
   "metadata": {},
   "source": [
    "                        # Gradient Descent\n",
    "    alpha = parameter\n",
    "    step_grad = const\n",
    "    grad = dE/dalpha\n",
    "    updated_alpha = alpha - (step_grad * grad)\n",
    "    "
   ]
  },
  {
   "cell_type": "markdown",
   "id": "bfd9bf8e",
   "metadata": {},
   "source": [
    "                             # Gradient\n",
    " The expression of gradient would change, according to the energy expectation expression"
   ]
  },
  {
   "cell_type": "markdown",
   "id": "450614cd",
   "metadata": {},
   "source": [
    "         # Implementing the gradient descent opt with the help of initial values"
   ]
  },
  {
   "cell_type": "code",
   "execution_count": 20,
   "id": "927e8b89",
   "metadata": {},
   "outputs": [],
   "source": [
    "class Variational_method:\n",
    "    def __init__(self,psi_trial, alpha_ini, step, num_iterations,tolerance):\n",
    "        self.f = psi_trial\n",
    "        self.alpha_ini = alpha_ini\n",
    "        self.step = step\n",
    "        self.num_iterations = num_iterations\n",
    "        self.tolerance = tolerance\n",
    "        self.m_e = 1\n",
    "        self.h_cut = 1\n",
    "        self.g = 10\n",
    "        \n",
    "    def dE_dalpha(self,alpha0, alpha1, E0, E1):\n",
    "        derivative = (E1 - E0)/(alpha1 - alpha0)\n",
    "        return derivative\n",
    "\n",
    "    # Returns the derivative of particular wavefunction wrt x on the whole x-grid\n",
    "    # therefore f_dash returns the (n-1) derivative points for n points on x-grid\n",
    "    def d_dx(self,x,alpha):\n",
    "        h = x[1] - x[0]\n",
    "        f_dash = np.zeros(len(x))\n",
    "        for i in range(len(x)-1):\n",
    "            f_dash[i] = ( self.f(alpha,x[i+1]) - self.f(alpha,x[i]) )/h\n",
    "    \n",
    "        return f_dash\n",
    "    \n",
    "    def d_2_dx(self,x, alpha):\n",
    "        h = x[1] - x[0]\n",
    "        f_double_dash = np.zeros(len(x))\n",
    "    \n",
    "        for i in range(1, len(x)-1):\n",
    "            f_double_dash[i] = ( self.f(alpha,x[i+1]) - 2*self.f(alpha,x[i]) + self.f(alpha,x[i-1])) / h**2\n",
    "        \n",
    "        return f_double_dash\n",
    "    \n",
    "    def plots(self, alpha_list, energy_list, iteration_list):\n",
    "        plt.subplot(2,1,1)\n",
    "        plt.plot(alpha_list, energy_list)\n",
    "        plt.xlabel(\"updated_alphas\")\n",
    "        plt.ylabel(\"Energy\")\n",
    "        plt.subplot(2,1,2)\n",
    "        plt.xlabel(\"Iterations\")\n",
    "        plt.ylabel(\"Energy\")\n",
    "        plt.plot(iteration_list, energy_list)\n",
    "    \n",
    "    def bra_H_ket(self,V, x_grid,alpha):\n",
    "        T_ket = (-1/2)*self.d_2_dx(x_grid, alpha)\n",
    "    \n",
    "        bra_T_ket = simps(np.conj(self.f(alpha,x_grid)) * T_ket, x_grid)\n",
    "        bra_V_ket = simps(np.conj(self.f(alpha,x_grid))*V*self.f(alpha,x_grid), x_grid)\n",
    "    \n",
    "        bra_H_ket = bra_T_ket + bra_V_ket\n",
    "    \n",
    "        return bra_H_ket\n",
    "    \n",
    "    def bra_ket_overlap(self,x_grid,alpha):\n",
    "        bra_ket_integrate = simps(np.conj(self.f(alpha,x_grid))*self.f(alpha,x_grid) , x_grid)\n",
    "    \n",
    "        return bra_ket_integrate\n",
    "    \n",
    "    def expected_energy(self,V, x_grid,alpha):\n",
    "        bra_h_ket = self.bra_H_ket(V, x_grid, alpha)\n",
    "        bra_ket_integrate = self.bra_ket_overlap(x_grid,alpha)\n",
    "    \n",
    "        bra_E_ket = bra_h_ket / bra_ket_integrate\n",
    "    \n",
    "        return bra_E_ket\n",
    "    \n",
    "    def gradient_descent(self):\n",
    "         # Initiate empty list : used for recording data during the iteration\n",
    "        alpha_update_list = []\n",
    "        E_list = []\n",
    "        iteration_list= []\n",
    "\n",
    "        # define the initial constants and function\n",
    "        x_grid = np.arange(0,20,0.01)\n",
    "        V = self.m_e*self.g*x_grid\n",
    "        converged = False\n",
    "\n",
    "        # Intitial Values that will be used to start and implement the gradient descent \n",
    "        E0 = self.expected_energy(V, x_grid, self.alpha_ini)\n",
    "        alpha0 = self.alpha_ini\n",
    "        alpha = alpha0 + self.step\n",
    "        iteration = 0\n",
    "\n",
    "        while not converged and iteration < self.num_iterations:\n",
    "            E1 = self.expected_energy(V, x_grid,alpha)\n",
    "            derivative = self.dE_dalpha(alpha0, alpha, E0, E1)\n",
    "\n",
    "            # update the parameter with SGD \n",
    "            updated_alpha = alpha - step*derivative\n",
    "\n",
    "            # Record the data\n",
    "            alpha_update_list.append(updated_alpha)\n",
    "            E_list.append(E1)\n",
    "            iteration_list.append(iteration)\n",
    "\n",
    "            # arrange the parameters for next iteration\n",
    "            alpha0 = alpha\n",
    "            alpha = updated_alpha\n",
    "            E0  = E1\n",
    "\n",
    "            # Print at intervals of (num_iterations/10, here it is: 2000/10 = 200)\n",
    "            # therefore we print at every successive 200th iteration interval \n",
    "            if iteration% math.ceil(num_iterations / 10) == 0:\n",
    "                print(f\"Iteration {iteration:4d}: Expected_Energy {E_list[-1]} and alpha: {alpha_update_list[-1]}   \")\n",
    "\n",
    "            # Convergence criteria and iteration update\n",
    "            converged = abs(alpha-alpha0) < tolerance\n",
    "            iteration += 1\n",
    "        \n",
    "        self.plots(alpha_update_list, E_list, iteration_list)\n",
    "        \n",
    "        return E_list, alpha_update_list, iteration_list"
   ]
  },
  {
   "cell_type": "markdown",
   "id": "a262e938",
   "metadata": {},
   "source": [
    "                        # Trial Wavefunction 1"
   ]
  },
  {
   "cell_type": "code",
   "execution_count": 30,
   "id": "999775b4",
   "metadata": {},
   "outputs": [
    {
     "name": "stdout",
     "output_type": "stream",
     "text": [
      "Iteration    0: Expected_Energy 15.486022180219681 and alpha: 1.0149844794033636   \n",
      "Iteration  200: Expected_Energy 9.602874827274055 and alpha: 1.9474458134452413   \n",
      "Iteration  400: Expected_Energy 9.22815128440635 and alpha: 2.2125506538426545   \n",
      "Iteration  600: Expected_Energy 9.150933030439496 and alpha: 2.334084370992166   \n",
      "Iteration  800: Expected_Energy 9.13129060580264 and alpha: 2.395576746146091   \n",
      "Iteration 1000: Expected_Energy 9.125860922782286 and alpha: 2.4279518011671017   \n",
      "Iteration 1200: Expected_Energy 9.124300074650247 and alpha: 2.445321616994177   \n",
      "Iteration 1400: Expected_Energy 9.123842378844598 and alpha: 2.454730832947284   \n",
      "Iteration 1600: Expected_Energy 9.123706755714739 and alpha: 2.4598536796319976   \n",
      "Iteration 1800: Expected_Energy 9.123666342404839 and alpha: 2.462650402649895   \n"
     ]
    },
    {
     "data": {
      "image/png": "[encoded data removed]",
      "text/plain": [
       "<Figure size 432x288 with 2 Axes>"
      ]
     },
     "metadata": {
      "needs_background": "light"
     },
     "output_type": "display_data"
    }
   ],
   "source": [
    "psi_trial = lambda alpha, x: x* np.exp(-alpha*x)\n",
    "alpha_ini = 1.0\n",
    "step = 0.001\n",
    "num_iterations = 2000\n",
    "tolerance = 1.0e-6\n",
    "method=Variational_method(psi_trial,alpha_ini, step, num_iterations, tolerance)\n",
    "Energy_list, alpha_list, iteration_list = method.gradient_descent()"
   ]
  },
  {
   "cell_type": "markdown",
   "id": "4a3d79ed",
   "metadata": {},
   "source": [
    "                         # Trial Wavefunction 2"
   ]
  },
  {
   "cell_type": "code",
   "execution_count": 32,
   "id": "5484d2d1",
   "metadata": {},
   "outputs": [
    {
     "name": "stdout",
     "output_type": "stream",
     "text": [
      "Iteration    0: Expected_Energy 129.92780638648105 and alpha: 1.057590483546734   \n",
      "Iteration  200: Expected_Energy 14.30822474414364 and alpha: 4.496227369621801   \n",
      "Iteration  400: Expected_Energy 11.179086513267034 and alpha: 5.271404409876571   \n",
      "Iteration  600: Expected_Energy 10.188642097625479 and alpha: 5.711701369709644   \n",
      "Iteration  800: Expected_Energy 9.785197132220656 and alpha: 5.9934390615590365   \n",
      "Iteration 1000: Expected_Energy 9.604439180046642 and alpha: 6.1822236118631055   \n",
      "Iteration 1200: Expected_Energy 9.519629307556169 and alpha: 6.311605805618358   \n",
      "Iteration 1400: Expected_Energy 9.478817543946644 and alpha: 6.401384851294109   \n",
      "Iteration 1600: Expected_Energy 9.458881787819209 and alpha: 6.464144066249676   \n",
      "Iteration 1800: Expected_Energy 9.449052110741265 and alpha: 6.508217871816253   \n"
     ]
    },
    {
     "data": {
      "image/png": "[encoded data removed]",
      "text/plain": [
       "<Figure size 432x288 with 2 Axes>"
      ]
     },
     "metadata": {
      "needs_background": "light"
     },
     "output_type": "display_data"
    }
   ],
   "source": [
    "psi_trial = lambda alpha, x: x**2*np.exp(-alpha*x**0.5)\n",
    "alpha_ini = 1.0\n",
    "step = 0.001\n",
    "num_iterations = 2000\n",
    "tolerance = 1.0e-6\n",
    "method=Variational_method(psi_trial,alpha_ini, step, num_iterations, tolerance)\n",
    "Energy_list,alpha_list,iteration_list = method.gradient_descent()"
   ]
  },
  {
   "cell_type": "code",
   "execution_count": null,
   "id": "587e488e",
   "metadata": {},
   "outputs": [],
   "source": []
  }
 ],
 "metadata": {
  "kernelspec": {
   "display_name": "Python 3",
   "language": "python",
   "name": "python3"
  },
  "language_info": {
   "codemirror_mode": {
    "name": "ipython",
    "version": 3
   },
   "file_extension": ".py",
   "mimetype": "text/x-python",
   "name": "python",
   "nbconvert_exporter": "python",
   "pygments_lexer": "ipython3",
   "version": "3.8.8"
  }
 },
 "nbformat": 4,
 "nbformat_minor": 5
}
